{
 "cells": [
  {
   "cell_type": "code",
   "execution_count": 1,
   "metadata": {
    "collapsed": true
   },
   "outputs": [],
   "source": [
    "import numpy as np\n",
    "import itertools as iter\n",
    "import random"
   ]
  },
  {
   "cell_type": "code",
   "execution_count": 2,
   "metadata": {
    "collapsed": true
   },
   "outputs": [],
   "source": [
    "class Card:\n",
    "    def __init__(self, number, shading, color, symbol):\n",
    "        self.num = number\n",
    "        self.sym = symbol\n",
    "        self.sha = shading\n",
    "        self.col = color\n",
    "    def __str__(self):\n",
    "        return str(self.num) + ', ' + self.sha + ', ' + self.col + ', ' + self.sym\n",
    "    def __eq__(self, other) : \n",
    "        return self.__dict__ == other.__dict__\n",
    "    def get_number(self):\n",
    "        return self.num\n",
    "    def get_symbol(self):\n",
    "        return self.sym\n",
    "    def get_shading(self):\n",
    "        return self.sha\n",
    "    def get_color(self):\n",
    "        return self.col"
   ]
  },
  {
   "cell_type": "code",
   "execution_count": 3,
   "metadata": {
    "collapsed": true
   },
   "outputs": [],
   "source": [
    "x = Card(3,'open', 'blue', 'diamond')"
   ]
  },
  {
   "cell_type": "code",
   "execution_count": 4,
   "metadata": {
    "collapsed": false
   },
   "outputs": [
    {
     "name": "stdout",
     "output_type": "stream",
     "text": [
      "3, open, blue, diamond\n"
     ]
    }
   ],
   "source": [
    "print x"
   ]
  },
  {
   "cell_type": "code",
   "execution_count": 5,
   "metadata": {
    "collapsed": false
   },
   "outputs": [],
   "source": [
    "numbers = range(1,4)\n",
    "symbols = ['diamond', 'squiggle', 'oval']\n",
    "shadings = ['solid', 'striped', 'open']\n",
    "colors = ['red', 'green', 'purple']"
   ]
  },
  {
   "cell_type": "code",
   "execution_count": 6,
   "metadata": {
    "collapsed": false
   },
   "outputs": [],
   "source": [
    "cards = list(iter.product(numbers, shadings, colors, symbols))"
   ]
  },
  {
   "cell_type": "code",
   "execution_count": 7,
   "metadata": {
    "collapsed": false
   },
   "outputs": [],
   "source": [
    "#deck = np.empty(81, dtype=Card)\n",
    "deck = []\n",
    "for i, card in enumerate(cards):\n",
    "    #deck[i] = Card(card[0], card[1], card[2], card[3])\n",
    "    deck.append(Card(card[0], card[1], card[2], card[3]))"
   ]
  },
  {
   "cell_type": "code",
   "execution_count": 8,
   "metadata": {
    "collapsed": false
   },
   "outputs": [],
   "source": [
    "def is_set(c1, c2, c3):\n",
    "    nums = [c1.get_number(), c2.get_number(), c3.get_number()]\n",
    "    syms = [c1.get_symbol(), c2.get_symbol(), c3.get_symbol()]\n",
    "    shas = [c1.get_shading(), c2.get_shading(), c3.get_shading()]\n",
    "    cols = [c1.get_color(), c2.get_color(), c3.get_color()]\n",
    "    \n",
    "    return 2 not in set([len(set(nums)), len(set(syms)), len(set(shas)), len(set(cols))])   "
   ]
  },
  {
   "cell_type": "code",
   "execution_count": 9,
   "metadata": {
    "collapsed": true
   },
   "outputs": [],
   "source": [
    "c1 = Card(3, 'green', 'open', 'b')\n",
    "c2 = Card(2, 'diamond', 'open', 'b')\n",
    "c3 = Card(1, 'squiggle', 'open', 'b')"
   ]
  },
  {
   "cell_type": "code",
   "execution_count": 10,
   "metadata": {
    "collapsed": false
   },
   "outputs": [
    {
     "data": {
      "text/plain": [
       "True"
      ]
     },
     "execution_count": 10,
     "metadata": {},
     "output_type": "execute_result"
    }
   ],
   "source": [
    "is_set(c1, c2, c3)"
   ]
  },
  {
   "cell_type": "code",
   "execution_count": 11,
   "metadata": {
    "collapsed": false
   },
   "outputs": [
    {
     "data": {
      "text/plain": [
       "{1, 2, 3}"
      ]
     },
     "execution_count": 11,
     "metadata": {},
     "output_type": "execute_result"
    }
   ],
   "source": [
    "set([c1.get_number(), c2.get_number(), c3.get_number()])"
   ]
  },
  {
   "cell_type": "code",
   "execution_count": 12,
   "metadata": {
    "collapsed": false
   },
   "outputs": [
    {
     "name": "stdout",
     "output_type": "stream",
     "text": [
      "1, solid, red, diamond\n",
      "1, solid, red, squiggle\n",
      "1, solid, red, oval\n",
      "1, solid, green, diamond\n",
      "1, solid, green, squiggle\n",
      "1, solid, green, oval\n",
      "1, solid, purple, diamond\n",
      "1, solid, purple, squiggle\n",
      "1, solid, purple, oval\n",
      "1, striped, red, diamond\n",
      "1, striped, red, squiggle\n",
      "1, striped, red, oval\n",
      "1, striped, green, diamond\n",
      "1, striped, green, squiggle\n",
      "1, striped, green, oval\n",
      "1, striped, purple, diamond\n",
      "1, striped, purple, squiggle\n",
      "1, striped, purple, oval\n",
      "1, open, red, diamond\n",
      "1, open, red, squiggle\n",
      "1, open, red, oval\n",
      "1, open, green, diamond\n",
      "1, open, green, squiggle\n",
      "1, open, green, oval\n",
      "1, open, purple, diamond\n",
      "1, open, purple, squiggle\n",
      "1, open, purple, oval\n",
      "2, solid, red, diamond\n",
      "2, solid, red, squiggle\n",
      "2, solid, red, oval\n",
      "2, solid, green, diamond\n",
      "2, solid, green, squiggle\n",
      "2, solid, green, oval\n",
      "2, solid, purple, diamond\n",
      "2, solid, purple, squiggle\n",
      "2, solid, purple, oval\n",
      "2, striped, red, diamond\n",
      "2, striped, red, squiggle\n",
      "2, striped, red, oval\n",
      "2, striped, green, diamond\n",
      "2, striped, green, squiggle\n",
      "2, striped, green, oval\n",
      "2, striped, purple, diamond\n",
      "2, striped, purple, squiggle\n",
      "2, striped, purple, oval\n",
      "2, open, red, diamond\n",
      "2, open, red, squiggle\n",
      "2, open, red, oval\n",
      "2, open, green, diamond\n",
      "2, open, green, squiggle\n",
      "2, open, green, oval\n",
      "2, open, purple, diamond\n",
      "2, open, purple, squiggle\n",
      "2, open, purple, oval\n",
      "3, solid, red, diamond\n",
      "3, solid, red, squiggle\n",
      "3, solid, red, oval\n",
      "3, solid, green, diamond\n",
      "3, solid, green, squiggle\n",
      "3, solid, green, oval\n",
      "3, solid, purple, diamond\n",
      "3, solid, purple, squiggle\n",
      "3, solid, purple, oval\n",
      "3, striped, red, diamond\n",
      "3, striped, red, squiggle\n",
      "3, striped, red, oval\n",
      "3, striped, green, diamond\n",
      "3, striped, green, squiggle\n",
      "3, striped, green, oval\n",
      "3, striped, purple, diamond\n",
      "3, striped, purple, squiggle\n",
      "3, striped, purple, oval\n",
      "3, open, red, diamond\n",
      "3, open, red, squiggle\n",
      "3, open, red, oval\n",
      "3, open, green, diamond\n",
      "3, open, green, squiggle\n",
      "3, open, green, oval\n",
      "3, open, purple, diamond\n",
      "3, open, purple, squiggle\n",
      "3, open, purple, oval\n"
     ]
    }
   ],
   "source": [
    "for card in deck:\n",
    "    print card"
   ]
  },
  {
   "cell_type": "code",
   "execution_count": 13,
   "metadata": {
    "collapsed": false
   },
   "outputs": [
    {
     "name": "stdout",
     "output_type": "stream",
     "text": [
      "(1, 'solid', 'red', 'diamond')\n"
     ]
    }
   ],
   "source": [
    "print cards[0]"
   ]
  },
  {
   "cell_type": "code",
   "execution_count": 14,
   "metadata": {
    "collapsed": false
   },
   "outputs": [],
   "source": [
    "class Deck:\n",
    "    def __init__(self):\n",
    "        numbers = range(1,4)\n",
    "        symbols = ['diamond', 'squiggle', 'oval']\n",
    "        shadings = ['solid', 'striped', 'open']\n",
    "        colors = ['red', 'green', 'purple']\n",
    "        cards = list(iter.product(numbers, shadings, colors, symbols))\n",
    "        self.deck = []\n",
    "        for card in cards:\n",
    "            self.deck.append(Card(card[0], card[1], card[2], card[3]))\n",
    "    def __str__(self):\n",
    "        return '\\n'.join([str(card) for card in self.deck])\n",
    "    \n",
    "    def get_size(self):\n",
    "        return len(self.deck)\n",
    "    \n",
    "    def shuffle(self):\n",
    "        return random.shuffle(self.deck)\n",
    "    \n",
    "    def draw_card(self):\n",
    "        #first_card = deck[0]\n",
    "        #return deck[0]\n",
    "        return self.deck.pop(0)"
   ]
  },
  {
   "cell_type": "code",
   "execution_count": 15,
   "metadata": {
    "collapsed": false
   },
   "outputs": [],
   "source": [
    "d = Deck()"
   ]
  },
  {
   "cell_type": "code",
   "execution_count": 16,
   "metadata": {
    "collapsed": false
   },
   "outputs": [
    {
     "data": {
      "text/plain": [
       "81"
      ]
     },
     "execution_count": 16,
     "metadata": {},
     "output_type": "execute_result"
    }
   ],
   "source": [
    "d.get_size()"
   ]
  },
  {
   "cell_type": "code",
   "execution_count": 17,
   "metadata": {
    "collapsed": false
   },
   "outputs": [
    {
     "name": "stdout",
     "output_type": "stream",
     "text": [
      "1, solid, red, diamond\n"
     ]
    }
   ],
   "source": [
    "print d.draw_card()"
   ]
  },
  {
   "cell_type": "code",
   "execution_count": 18,
   "metadata": {
    "collapsed": false
   },
   "outputs": [
    {
     "name": "stdout",
     "output_type": "stream",
     "text": [
      "1, solid, red, squiggle\n"
     ]
    }
   ],
   "source": [
    "print d.draw_card()"
   ]
  },
  {
   "cell_type": "code",
   "execution_count": 19,
   "metadata": {
    "collapsed": true
   },
   "outputs": [],
   "source": [
    "d.shuffle()"
   ]
  },
  {
   "cell_type": "code",
   "execution_count": 20,
   "metadata": {
    "collapsed": false
   },
   "outputs": [
    {
     "name": "stdout",
     "output_type": "stream",
     "text": [
      "1, open, green, diamond\n"
     ]
    }
   ],
   "source": [
    "print d.draw_card()"
   ]
  },
  {
   "cell_type": "code",
   "execution_count": 21,
   "metadata": {
    "collapsed": false
   },
   "outputs": [
    {
     "data": {
      "text/plain": [
       "78"
      ]
     },
     "execution_count": 21,
     "metadata": {},
     "output_type": "execute_result"
    }
   ],
   "source": [
    "d.get_size()"
   ]
  },
  {
   "cell_type": "code",
   "execution_count": 22,
   "metadata": {
    "collapsed": false
   },
   "outputs": [
    {
     "name": "stdout",
     "output_type": "stream",
     "text": [
      "1, open, purple, diamond\n",
      "2, open, red, squiggle\n",
      "1, striped, purple, squiggle\n",
      "2, striped, red, squiggle\n",
      "2, striped, red, diamond\n",
      "1, open, purple, squiggle\n",
      "3, solid, purple, squiggle\n",
      "1, solid, purple, oval\n",
      "2, open, green, diamond\n",
      "2, solid, purple, squiggle\n",
      "3, open, purple, diamond\n",
      "2, solid, purple, diamond\n",
      "2, solid, red, squiggle\n",
      "2, solid, purple, oval\n",
      "2, striped, green, diamond\n",
      "3, striped, purple, oval\n",
      "3, solid, red, oval\n",
      "1, solid, purple, squiggle\n",
      "3, solid, green, squiggle\n",
      "2, striped, green, oval\n",
      "3, striped, red, oval\n",
      "3, open, purple, squiggle\n",
      "1, open, purple, oval\n",
      "2, striped, purple, squiggle\n",
      "2, solid, green, diamond\n",
      "3, open, purple, oval\n",
      "1, solid, green, diamond\n",
      "2, solid, green, squiggle\n",
      "3, open, red, squiggle\n",
      "3, open, red, diamond\n",
      "3, solid, red, squiggle\n",
      "2, open, purple, squiggle\n",
      "3, striped, purple, diamond\n",
      "2, open, green, squiggle\n",
      "2, striped, green, squiggle\n",
      "1, striped, green, oval\n",
      "1, open, red, diamond\n",
      "2, open, purple, diamond\n",
      "1, open, red, oval\n",
      "3, striped, purple, squiggle\n",
      "3, solid, purple, oval\n",
      "2, open, purple, oval\n",
      "1, striped, purple, diamond\n",
      "2, solid, red, diamond\n",
      "3, solid, red, diamond\n",
      "1, striped, red, diamond\n",
      "1, striped, red, oval\n",
      "2, striped, purple, oval\n",
      "2, open, green, oval\n",
      "1, solid, purple, diamond\n",
      "1, solid, red, oval\n",
      "2, open, red, oval\n",
      "1, open, green, oval\n",
      "3, open, red, oval\n",
      "1, striped, purple, oval\n",
      "3, open, green, oval\n",
      "3, solid, purple, diamond\n",
      "3, open, green, diamond\n",
      "1, open, red, squiggle\n",
      "2, striped, purple, diamond\n",
      "3, striped, green, diamond\n",
      "3, open, green, squiggle\n",
      "3, solid, green, diamond\n",
      "3, solid, green, oval\n",
      "1, striped, red, squiggle\n",
      "2, striped, red, oval\n",
      "3, striped, red, squiggle\n",
      "2, solid, red, oval\n",
      "3, striped, green, oval\n",
      "1, striped, green, squiggle\n",
      "3, striped, red, diamond\n",
      "1, solid, green, oval\n",
      "2, open, red, diamond\n",
      "2, solid, green, oval\n",
      "3, striped, green, squiggle\n",
      "1, solid, green, squiggle\n",
      "1, striped, green, diamond\n",
      "1, open, green, squiggle\n"
     ]
    }
   ],
   "source": [
    "print d"
   ]
  },
  {
   "cell_type": "code",
   "execution_count": 23,
   "metadata": {
    "collapsed": true
   },
   "outputs": [],
   "source": [
    "d = Deck()"
   ]
  },
  {
   "cell_type": "code",
   "execution_count": 24,
   "metadata": {
    "collapsed": true
   },
   "outputs": [],
   "source": [
    "d.shuffle()"
   ]
  },
  {
   "cell_type": "code",
   "execution_count": 25,
   "metadata": {
    "collapsed": true
   },
   "outputs": [],
   "source": [
    "board = []\n",
    "for i in range(12):\n",
    "    board.append(d.draw_card())"
   ]
  },
  {
   "cell_type": "code",
   "execution_count": 26,
   "metadata": {
    "collapsed": false
   },
   "outputs": [
    {
     "name": "stdout",
     "output_type": "stream",
     "text": [
      "1, open, red, diamond\n",
      "3, open, green, oval\n",
      "1, solid, purple, diamond\n",
      "3, solid, green, squiggle\n",
      "2, solid, green, diamond\n",
      "2, solid, purple, diamond\n",
      "1, solid, green, oval\n",
      "1, solid, green, diamond\n",
      "2, solid, green, squiggle\n",
      "3, open, green, squiggle\n",
      "3, striped, red, oval\n",
      "2, solid, red, diamond\n"
     ]
    }
   ],
   "source": [
    "print '\\n'.join([str(card) for card in board])"
   ]
  },
  {
   "cell_type": "code",
   "execution_count": 27,
   "metadata": {
    "collapsed": false
   },
   "outputs": [
    {
     "data": {
      "text/plain": [
       "69"
      ]
     },
     "execution_count": 27,
     "metadata": {},
     "output_type": "execute_result"
    }
   ],
   "source": [
    "d.get_size()"
   ]
  },
  {
   "cell_type": "code",
   "execution_count": 28,
   "metadata": {
    "collapsed": true
   },
   "outputs": [],
   "source": [
    "def create_board():\n",
    "    board = []\n",
    "    for i in range(12):\n",
    "        board.append(d.draw_card())"
   ]
  },
  {
   "cell_type": "code",
   "execution_count": 29,
   "metadata": {
    "collapsed": false
   },
   "outputs": [
    {
     "name": "stdout",
     "output_type": "stream",
     "text": [
      "[<__main__.Card instance at 0x106a297a0>, <__main__.Card instance at 0x106a1f878>, <__main__.Card instance at 0x106a29440>, <__main__.Card instance at 0x106a1f320>, <__main__.Card instance at 0x106a29b00>, <__main__.Card instance at 0x106a29bd8>, <__main__.Card instance at 0x106a293f8>, <__main__.Card instance at 0x106a29368>, <__main__.Card instance at 0x106a29b48>, <__main__.Card instance at 0x106a1f830>, <__main__.Card instance at 0x106a1f518>, <__main__.Card instance at 0x106a29a28>]\n"
     ]
    }
   ],
   "source": [
    "print board"
   ]
  },
  {
   "cell_type": "code",
   "execution_count": 139,
   "metadata": {
    "collapsed": true
   },
   "outputs": [],
   "source": [
    "class Board:\n",
    "    def __init__(self, deck):\n",
    "        self.deck = deck\n",
    "        self.board = []\n",
    "        for i in range(12):\n",
    "            self.board.append(self.deck.draw_card())\n",
    "            \n",
    "    def __str__(self):\n",
    "        return '\\n'.join([str(card) for card in self.board])\n",
    "    \n",
    "    def get_size(self):\n",
    "        return len(self.board)\n",
    "    \n",
    "    def get_board(self):\n",
    "        return self.board\n",
    "    \n",
    "    def contains(self, c1):\n",
    "        return any(c1 == card for card in self.board)\n",
    "    \n",
    "    def is_set(c1, c2, c3):\n",
    "        nums = [c1.get_number(), c2.get_number(), c3.get_number()]\n",
    "        syms = [c1.get_symbol(), c2.get_symbol(), c3.get_symbol()]\n",
    "        shas = [c1.get_shading(), c2.get_shading(), c3.get_shading()]\n",
    "        cols = [c1.get_color(), c2.get_color(), c3.get_color()]\n",
    "        uniq_attributes = set([len(set(nums)), len(set(syms)), len(set(shas)), len(set(cols))])\n",
    "        return ((2 not in uniq_attributes) & (3 in uniq_attributes))  \n",
    "    \n",
    "    def remove_set(self, c1, c2, c3, player):\n",
    "        if (self.contains(c1) & self.contains(c2) & self.contains(c3) & is_set(c1, c2, c3)):\n",
    "            self.board.remove(c1)\n",
    "            self.board.remove(c2)\n",
    "            self.board.remove(c3)\n",
    "            player.increment_pts()\n",
    "    \n",
    "    def refill_board(self):\n",
    "        for i in range(3):\n",
    "            if self.deck.get_size() > 0:\n",
    "                self.board.append(self.deck.draw_card())"
   ]
  },
  {
   "cell_type": "code",
   "execution_count": 86,
   "metadata": {
    "collapsed": false
   },
   "outputs": [],
   "source": [
    "d = Deck()\n",
    "d.shuffle()"
   ]
  },
  {
   "cell_type": "code",
   "execution_count": 87,
   "metadata": {
    "collapsed": true
   },
   "outputs": [],
   "source": [
    "b = Board(d)"
   ]
  },
  {
   "cell_type": "code",
   "execution_count": 33,
   "metadata": {
    "collapsed": false
   },
   "outputs": [
    {
     "name": "stdout",
     "output_type": "stream",
     "text": [
      "1, solid, purple, diamond\n",
      "3, striped, purple, oval\n",
      "3, open, green, squiggle\n",
      "2, striped, green, diamond\n",
      "3, solid, purple, oval\n",
      "2, open, purple, squiggle\n",
      "1, striped, purple, diamond\n",
      "3, open, green, oval\n",
      "1, striped, red, squiggle\n",
      "3, striped, green, squiggle\n",
      "3, striped, purple, squiggle\n",
      "1, open, purple, squiggle\n"
     ]
    }
   ],
   "source": [
    "print b"
   ]
  },
  {
   "cell_type": "code",
   "execution_count": 34,
   "metadata": {
    "collapsed": true
   },
   "outputs": [],
   "source": [
    "c1 = Card(2, 'solid', 'green', 'squiggle')"
   ]
  },
  {
   "cell_type": "code",
   "execution_count": 35,
   "metadata": {
    "collapsed": true
   },
   "outputs": [],
   "source": [
    "c2 = Card(1, 'oval', 'solid', 'red')"
   ]
  },
  {
   "cell_type": "code",
   "execution_count": 36,
   "metadata": {
    "collapsed": false
   },
   "outputs": [
    {
     "data": {
      "text/plain": [
       "False"
      ]
     },
     "execution_count": 36,
     "metadata": {},
     "output_type": "execute_result"
    }
   ],
   "source": [
    "c1 == c2"
   ]
  },
  {
   "cell_type": "code",
   "execution_count": 37,
   "metadata": {
    "collapsed": false
   },
   "outputs": [
    {
     "data": {
      "text/plain": [
       "False"
      ]
     },
     "execution_count": 37,
     "metadata": {},
     "output_type": "execute_result"
    }
   ],
   "source": [
    "b.contains(c1)"
   ]
  },
  {
   "cell_type": "code",
   "execution_count": 52,
   "metadata": {
    "collapsed": true
   },
   "outputs": [],
   "source": [
    "c1 = Card(1, 'solid', 'purple', 'diamond')\n",
    "c2 = Card(3, 'striped', 'purple', 'oval')\n",
    "c3 = Card(3, 'open', 'green', 'squiggle')"
   ]
  },
  {
   "cell_type": "code",
   "execution_count": 53,
   "metadata": {
    "collapsed": false
   },
   "outputs": [],
   "source": [
    "b.remove_set(c1, c2, c3)"
   ]
  },
  {
   "cell_type": "code",
   "execution_count": 54,
   "metadata": {
    "collapsed": false
   },
   "outputs": [
    {
     "name": "stdout",
     "output_type": "stream",
     "text": [
      "2, striped, green, diamond\n",
      "3, solid, purple, oval\n",
      "2, open, purple, squiggle\n",
      "1, striped, purple, diamond\n",
      "3, open, green, oval\n",
      "1, striped, red, squiggle\n",
      "3, striped, green, squiggle\n",
      "3, striped, purple, squiggle\n",
      "1, open, purple, squiggle\n"
     ]
    }
   ],
   "source": [
    "print b"
   ]
  },
  {
   "cell_type": "code",
   "execution_count": 55,
   "metadata": {
    "collapsed": false
   },
   "outputs": [
    {
     "data": {
      "text/plain": [
       "69"
      ]
     },
     "execution_count": 55,
     "metadata": {},
     "output_type": "execute_result"
    }
   ],
   "source": [
    "d.get_size()"
   ]
  },
  {
   "cell_type": "code",
   "execution_count": 56,
   "metadata": {
    "collapsed": true
   },
   "outputs": [],
   "source": [
    "b.refill_board()"
   ]
  },
  {
   "cell_type": "code",
   "execution_count": 57,
   "metadata": {
    "collapsed": false
   },
   "outputs": [
    {
     "name": "stdout",
     "output_type": "stream",
     "text": [
      "2, striped, green, diamond\n",
      "3, solid, purple, oval\n",
      "2, open, purple, squiggle\n",
      "1, striped, purple, diamond\n",
      "3, open, green, oval\n",
      "1, striped, red, squiggle\n",
      "3, striped, green, squiggle\n",
      "3, striped, purple, squiggle\n",
      "1, open, purple, squiggle\n",
      "2, open, red, diamond\n",
      "1, open, red, diamond\n",
      "1, solid, green, oval\n"
     ]
    }
   ],
   "source": [
    "print b"
   ]
  },
  {
   "cell_type": "code",
   "execution_count": 58,
   "metadata": {
    "collapsed": false
   },
   "outputs": [
    {
     "data": {
      "text/plain": [
       "66"
      ]
     },
     "execution_count": 58,
     "metadata": {},
     "output_type": "execute_result"
    }
   ],
   "source": [
    "d.get_size()"
   ]
  },
  {
   "cell_type": "code",
   "execution_count": null,
   "metadata": {
    "collapsed": true
   },
   "outputs": [],
   "source": []
  },
  {
   "cell_type": "code",
   "execution_count": null,
   "metadata": {
    "collapsed": true
   },
   "outputs": [],
   "source": []
  },
  {
   "cell_type": "code",
   "execution_count": null,
   "metadata": {
    "collapsed": true
   },
   "outputs": [],
   "source": []
  },
  {
   "cell_type": "code",
   "execution_count": null,
   "metadata": {
    "collapsed": true
   },
   "outputs": [],
   "source": []
  },
  {
   "cell_type": "code",
   "execution_count": 80,
   "metadata": {
    "collapsed": true
   },
   "outputs": [],
   "source": [
    "class Player:\n",
    "    def __init__(self):\n",
    "        self.pts = 0\n",
    "    def get_pts(self):\n",
    "        return self.pts\n",
    "    def increment_pts(self):\n",
    "        self.pts += 1\n",
    "        #return self.pts"
   ]
  },
  {
   "cell_type": "code",
   "execution_count": 49,
   "metadata": {
    "collapsed": true
   },
   "outputs": [],
   "source": [
    "p1 = Player(0)"
   ]
  },
  {
   "cell_type": "code",
   "execution_count": 50,
   "metadata": {
    "collapsed": false
   },
   "outputs": [
    {
     "data": {
      "text/plain": [
       "0"
      ]
     },
     "execution_count": 50,
     "metadata": {},
     "output_type": "execute_result"
    }
   ],
   "source": [
    "p1.get_points()"
   ]
  },
  {
   "cell_type": "code",
   "execution_count": 51,
   "metadata": {
    "collapsed": false
   },
   "outputs": [],
   "source": [
    "p1.increment_pts()"
   ]
  },
  {
   "cell_type": "code",
   "execution_count": null,
   "metadata": {
    "collapsed": true
   },
   "outputs": [],
   "source": []
  },
  {
   "cell_type": "code",
   "execution_count": null,
   "metadata": {
    "collapsed": true
   },
   "outputs": [],
   "source": []
  },
  {
   "cell_type": "code",
   "execution_count": null,
   "metadata": {
    "collapsed": true
   },
   "outputs": [],
   "source": []
  },
  {
   "cell_type": "markdown",
   "metadata": {},
   "source": [
    "### Game"
   ]
  },
  {
   "cell_type": "code",
   "execution_count": 114,
   "metadata": {
    "collapsed": false
   },
   "outputs": [
    {
     "name": "stdout",
     "output_type": "stream",
     "text": [
      "81\n"
     ]
    }
   ],
   "source": [
    "# Create deck and shuffle it\n",
    "d = Deck()\n",
    "d.shuffle()\n",
    "\n",
    "# sanity check: deck should be 81 cards\n",
    "print d.get_size()"
   ]
  },
  {
   "cell_type": "code",
   "execution_count": 115,
   "metadata": {
    "collapsed": false
   },
   "outputs": [
    {
     "name": "stdout",
     "output_type": "stream",
     "text": [
      "1, solid, red, oval\n",
      "1, striped, purple, squiggle\n",
      "2, solid, purple, oval\n",
      "1, open, red, oval\n",
      "1, striped, purple, diamond\n",
      "3, solid, red, oval\n",
      "1, solid, red, diamond\n",
      "3, striped, red, squiggle\n",
      "1, open, purple, oval\n",
      "1, striped, red, squiggle\n",
      "3, solid, green, oval\n",
      "3, solid, purple, squiggle\n"
     ]
    }
   ],
   "source": [
    "# Create board\n",
    "b = Board(d)\n",
    "print b"
   ]
  },
  {
   "cell_type": "code",
   "execution_count": 124,
   "metadata": {
    "collapsed": true
   },
   "outputs": [],
   "source": [
    "b_copy = b"
   ]
  },
  {
   "cell_type": "code",
   "execution_count": 117,
   "metadata": {
    "collapsed": false
   },
   "outputs": [
    {
     "name": "stdout",
     "output_type": "stream",
     "text": [
      "69\n",
      "12\n"
     ]
    }
   ],
   "source": [
    "# sanity check: deck should have 69, board 12\n",
    "print d.get_size()\n",
    "print b.get_size()"
   ]
  },
  {
   "cell_type": "code",
   "execution_count": 118,
   "metadata": {
    "collapsed": true
   },
   "outputs": [],
   "source": [
    "# create a new player -- initialized to 0 pts\n",
    "p1 = Player()"
   ]
  },
  {
   "cell_type": "code",
   "execution_count": 119,
   "metadata": {
    "collapsed": false
   },
   "outputs": [
    {
     "data": {
      "text/plain": [
       "0"
      ]
     },
     "execution_count": 119,
     "metadata": {},
     "output_type": "execute_result"
    }
   ],
   "source": [
    "p1.get_pts()"
   ]
  },
  {
   "cell_type": "code",
   "execution_count": 125,
   "metadata": {
    "collapsed": true
   },
   "outputs": [],
   "source": [
    "c1 = Card(1, 'solid', 'red', 'oval')\n",
    "c2 = Card(2, 'solid', 'purple', 'oval')\n",
    "c3 = Card(3, 'solid', 'green', 'oval')"
   ]
  },
  {
   "cell_type": "code",
   "execution_count": 126,
   "metadata": {
    "collapsed": false
   },
   "outputs": [],
   "source": [
    "b.remove_set(c1, c2, c3, p1)"
   ]
  },
  {
   "cell_type": "code",
   "execution_count": 127,
   "metadata": {
    "collapsed": false
   },
   "outputs": [
    {
     "name": "stdout",
     "output_type": "stream",
     "text": [
      "9\n"
     ]
    }
   ],
   "source": [
    "print b.get_size()"
   ]
  },
  {
   "cell_type": "code",
   "execution_count": 129,
   "metadata": {
    "collapsed": false
   },
   "outputs": [
    {
     "name": "stdout",
     "output_type": "stream",
     "text": [
      "66\n",
      "12\n"
     ]
    }
   ],
   "source": [
    "b.refill_board()\n",
    "\n",
    "# sanity check: deck should have 66 now, board 12 again\n",
    "print d.get_size()\n",
    "print b.get_size()"
   ]
  },
  {
   "cell_type": "code",
   "execution_count": 131,
   "metadata": {
    "collapsed": false
   },
   "outputs": [
    {
     "data": {
      "text/plain": [
       "1"
      ]
     },
     "execution_count": 131,
     "metadata": {},
     "output_type": "execute_result"
    }
   ],
   "source": [
    "# player should have 1 set!\n",
    "p1.get_pts()"
   ]
  },
  {
   "cell_type": "code",
   "execution_count": null,
   "metadata": {
    "collapsed": true
   },
   "outputs": [],
   "source": []
  },
  {
   "cell_type": "code",
   "execution_count": 132,
   "metadata": {
    "collapsed": false
   },
   "outputs": [
    {
     "name": "stdout",
     "output_type": "stream",
     "text": [
      "1, striped, purple, squiggle\n",
      "1, open, red, oval\n",
      "1, striped, purple, diamond\n",
      "3, solid, red, oval\n",
      "1, solid, red, diamond\n",
      "3, striped, red, squiggle\n",
      "1, open, purple, oval\n",
      "1, striped, red, squiggle\n",
      "3, solid, purple, squiggle\n",
      "2, open, purple, squiggle\n",
      "3, striped, purple, diamond\n",
      "2, open, green, squiggle\n"
     ]
    }
   ],
   "source": [
    "print b_copy"
   ]
  },
  {
   "cell_type": "code",
   "execution_count": null,
   "metadata": {
    "collapsed": true
   },
   "outputs": [],
   "source": []
  },
  {
   "cell_type": "markdown",
   "metadata": {},
   "source": [
    "## Set AI"
   ]
  },
  {
   "cell_type": "code",
   "execution_count": 173,
   "metadata": {
    "collapsed": true
   },
   "outputs": [],
   "source": [
    "def is_set(c1, c2, c3):\n",
    "    nums = [c1.get_number(), c2.get_number(), c3.get_number()]\n",
    "    syms = [c1.get_symbol(), c2.get_symbol(), c3.get_symbol()]\n",
    "    shas = [c1.get_shading(), c2.get_shading(), c3.get_shading()]\n",
    "    cols = [c1.get_color(), c2.get_color(), c3.get_color()]\n",
    "    uniq_attributes = set([len(set(nums)), len(set(syms)), len(set(shas)), len(set(cols))])\n",
    "    return ((2 not in uniq_attributes) & (3 in uniq_attributes))"
   ]
  },
  {
   "cell_type": "code",
   "execution_count": 174,
   "metadata": {
    "collapsed": true
   },
   "outputs": [],
   "source": [
    "d1 = Deck()\n",
    "d1.shuffle()\n",
    "b1 = Board(d1)"
   ]
  },
  {
   "cell_type": "code",
   "execution_count": 175,
   "metadata": {
    "collapsed": false
   },
   "outputs": [
    {
     "name": "stdout",
     "output_type": "stream",
     "text": [
      "2, solid, purple, squiggle\n",
      "3, solid, red, oval\n",
      "2, open, green, diamond\n",
      "1, striped, purple, squiggle\n",
      "2, striped, purple, oval\n",
      "2, open, red, diamond\n",
      "1, striped, red, diamond\n",
      "1, striped, purple, diamond\n",
      "2, striped, red, squiggle\n",
      "2, striped, purple, squiggle\n",
      "2, striped, red, oval\n",
      "2, solid, red, oval\n"
     ]
    }
   ],
   "source": [
    "print b1"
   ]
  },
  {
   "cell_type": "code",
   "execution_count": 176,
   "metadata": {
    "collapsed": true
   },
   "outputs": [],
   "source": [
    "p1 = Player()"
   ]
  },
  {
   "cell_type": "code",
   "execution_count": 187,
   "metadata": {
    "collapsed": true
   },
   "outputs": [],
   "source": [
    "def find_set(board):\n",
    "    for c1 in board.get_board():\n",
    "        for c2 in board.get_board():\n",
    "            for c3 in board.get_board():\n",
    "                if is_set(c1, c2, c3):\n",
    "                    print [str(c1), str(c2), str(c3)]\n",
    "                    return [c1, c2, c3]\n",
    "    return []\n",
    "        "
   ]
  },
  {
   "cell_type": "code",
   "execution_count": 188,
   "metadata": {
    "collapsed": false
   },
   "outputs": [],
   "source": [
    "set1 = find_set(b1)"
   ]
  },
  {
   "cell_type": "code",
   "execution_count": 179,
   "metadata": {
    "collapsed": false
   },
   "outputs": [],
   "source": [
    "b1.remove_set(set1[0], set1[1], set1[2], p1)"
   ]
  },
  {
   "cell_type": "code",
   "execution_count": 181,
   "metadata": {
    "collapsed": false
   },
   "outputs": [],
   "source": [
    "b1.refill_board()"
   ]
  },
  {
   "cell_type": "code",
   "execution_count": 182,
   "metadata": {
    "collapsed": false
   },
   "outputs": [
    {
     "name": "stdout",
     "output_type": "stream",
     "text": [
      "3, solid, red, oval\n",
      "1, striped, purple, squiggle\n",
      "2, striped, purple, oval\n",
      "2, open, red, diamond\n",
      "1, striped, red, diamond\n",
      "1, striped, purple, diamond\n",
      "2, striped, red, squiggle\n",
      "2, striped, purple, squiggle\n",
      "2, solid, red, oval\n",
      "2, striped, green, diamond\n",
      "1, open, green, diamond\n",
      "2, striped, green, oval\n"
     ]
    }
   ],
   "source": [
    "print b1"
   ]
  },
  {
   "cell_type": "code",
   "execution_count": null,
   "metadata": {
    "collapsed": true
   },
   "outputs": [],
   "source": []
  },
  {
   "cell_type": "code",
   "execution_count": null,
   "metadata": {
    "collapsed": true
   },
   "outputs": [],
   "source": []
  },
  {
   "cell_type": "code",
   "execution_count": null,
   "metadata": {
    "collapsed": true
   },
   "outputs": [],
   "source": []
  },
  {
   "cell_type": "code",
   "execution_count": 207,
   "metadata": {
    "collapsed": true
   },
   "outputs": [],
   "source": [
    "d1 = Deck()\n",
    "d1.shuffle()\n",
    "b1 = Board(d1)\n",
    "p1 = Player()"
   ]
  },
  {
   "cell_type": "code",
   "execution_count": 208,
   "metadata": {
    "collapsed": false
   },
   "outputs": [
    {
     "name": "stdout",
     "output_type": "stream",
     "text": [
      "['3, open, green, squiggle', '2, open, red, diamond', '1, open, purple, oval']\n",
      "1\n",
      "['3, striped, purple, diamond', '1, open, green, oval', '2, solid, red, squiggle']\n",
      "2\n",
      "['1, solid, red, diamond', '2, striped, purple, squiggle', '3, open, green, oval']\n",
      "3\n",
      "['3, striped, green, diamond', '2, solid, purple, squiggle', '1, open, red, oval']\n",
      "4\n",
      "['2, solid, red, diamond', '1, open, purple, squiggle', '3, striped, green, oval']\n",
      "5\n",
      "Fill board\n",
      "['1, solid, purple, oval', '2, open, purple, diamond', '3, striped, purple, squiggle']\n",
      "6\n",
      "['1, solid, green, diamond', '1, open, green, diamond', '1, striped, green, diamond']\n",
      "7\n",
      "['1, open, red, diamond', '3, solid, red, diamond', '2, striped, red, diamond']\n",
      "8\n",
      "['3, open, purple, diamond', '2, open, green, oval', '1, open, red, squiggle']\n",
      "9\n",
      "['2, striped, green, squiggle', '1, striped, purple, oval', '3, striped, red, diamond']\n",
      "10\n",
      "['3, striped, purple, oval', '3, open, purple, oval', '3, solid, purple, oval']\n",
      "11\n",
      "['3, solid, purple, diamond', '1, striped, green, oval', '2, open, red, squiggle']\n",
      "12\n",
      "['3, open, red, squiggle', '1, solid, red, squiggle', '2, striped, red, squiggle']\n",
      "13\n",
      "['3, open, red, oval', '1, striped, purple, diamond', '2, solid, green, squiggle']\n",
      "14\n",
      "['1, striped, green, squiggle', '3, solid, green, squiggle', '2, open, green, squiggle']\n",
      "15\n",
      "['2, open, green, diamond', '3, solid, red, oval', '1, striped, purple, squiggle']\n",
      "16\n",
      "['2, open, purple, oval', '3, open, red, diamond', '1, open, green, squiggle']\n",
      "17\n",
      "['1, solid, green, oval', '3, solid, green, oval', '2, solid, green, oval']\n",
      "18\n",
      "['2, open, purple, squiggle', '3, striped, red, squiggle', '1, solid, green, squiggle']\n",
      "19\n",
      "['2, solid, green, diamond', '3, solid, purple, squiggle', '1, solid, red, oval']\n",
      "20\n",
      "['1, solid, purple, squiggle', '2, solid, red, oval', '3, solid, green, diamond']\n",
      "21\n",
      "['3, open, purple, squiggle', '2, striped, purple, oval', '1, solid, purple, diamond']\n",
      "22\n",
      "Game over, all sets found bitchezzz\n"
     ]
    }
   ],
   "source": [
    "while d1.get_size() > 0:\n",
    "    set1 = find_set(b1)\n",
    "    if set1 == []:\n",
    "        print 'Fill board'\n",
    "        b1.refill_board()\n",
    "    else:\n",
    "        b1.remove_set(set1[0], set1[1], set1[2], p1)\n",
    "        b1.refill_board()\n",
    "        print p1.get_pts()\n",
    "        \n",
    "print 'Game over, all sets found bitchezzz'"
   ]
  },
  {
   "cell_type": "code",
   "execution_count": null,
   "metadata": {
    "collapsed": true
   },
   "outputs": [],
   "source": []
  },
  {
   "cell_type": "code",
   "execution_count": null,
   "metadata": {
    "collapsed": true
   },
   "outputs": [],
   "source": []
  }
 ],
 "metadata": {
  "anaconda-cloud": {},
  "kernelspec": {
   "display_name": "Python [Root]",
   "language": "python",
   "name": "Python [Root]"
  },
  "language_info": {
   "codemirror_mode": {
    "name": "ipython",
    "version": 2
   },
   "file_extension": ".py",
   "mimetype": "text/x-python",
   "name": "python",
   "nbconvert_exporter": "python",
   "pygments_lexer": "ipython2",
   "version": "2.7.12"
  }
 },
 "nbformat": 4,
 "nbformat_minor": 0
}
