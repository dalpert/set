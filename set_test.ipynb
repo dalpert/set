{
 "cells": [
  {
   "cell_type": "code",
   "execution_count": 130,
   "metadata": {
    "collapsed": true
   },
   "outputs": [],
   "source": [
    "import numpy as np\n",
    "import itertools as iter\n",
    "import random"
   ]
  },
  {
   "cell_type": "code",
   "execution_count": 371,
   "metadata": {
    "collapsed": true
   },
   "outputs": [],
   "source": [
    "class Card:\n",
    "    def __init__(self, number, shading, color, symbol):\n",
    "        self.num = number\n",
    "        self.sym = symbol\n",
    "        self.sha = shading\n",
    "        self.col = color\n",
    "    def __str__(self):\n",
    "        return str(self.num) + ', ' + self.sha + ', ' + self.col + ', ' + self.sym\n",
    "    def __eq__(self, other) : \n",
    "        return self.__dict__ == other.__dict__\n",
    "    def get_number(self):\n",
    "        return self.num\n",
    "    def get_symbol(self):\n",
    "        return self.sym\n",
    "    def get_shading(self):\n",
    "        return self.sha\n",
    "    def get_color(self):\n",
    "        return self.col"
   ]
  },
  {
   "cell_type": "code",
   "execution_count": 372,
   "metadata": {
    "collapsed": true
   },
   "outputs": [],
   "source": [
    "x = Card(3,'open', 'blue', 'diamond')"
   ]
  },
  {
   "cell_type": "code",
   "execution_count": 373,
   "metadata": {
    "collapsed": false
   },
   "outputs": [
    {
     "name": "stdout",
     "output_type": "stream",
     "text": [
      "3, open, blue, diamond\n"
     ]
    }
   ],
   "source": [
    "print x"
   ]
  },
  {
   "cell_type": "code",
   "execution_count": 374,
   "metadata": {
    "collapsed": false
   },
   "outputs": [],
   "source": [
    "numbers = range(1,4)\n",
    "symbols = ['diamond', 'squiggle', 'oval']\n",
    "shadings = ['solid', 'striped', 'open']\n",
    "colors = ['red', 'green', 'purple']"
   ]
  },
  {
   "cell_type": "code",
   "execution_count": 375,
   "metadata": {
    "collapsed": false
   },
   "outputs": [],
   "source": [
    "cards = list(iter.product(numbers, shadings, colors, symbols))"
   ]
  },
  {
   "cell_type": "code",
   "execution_count": 376,
   "metadata": {
    "collapsed": false
   },
   "outputs": [],
   "source": [
    "#deck = np.empty(81, dtype=Card)\n",
    "deck = []\n",
    "for i, card in enumerate(cards):\n",
    "    #deck[i] = Card(card[0], card[1], card[2], card[3])\n",
    "    deck.append(Card(card[0], card[1], card[2], card[3]))"
   ]
  },
  {
   "cell_type": "code",
   "execution_count": 377,
   "metadata": {
    "collapsed": false
   },
   "outputs": [],
   "source": [
    "def is_set(c1, c2, c3):\n",
    "    nums = [c1.get_number(), c2.get_number(), c3.get_number()]\n",
    "    syms = [c1.get_symbol(), c2.get_symbol(), c3.get_symbol()]\n",
    "    shas = [c1.get_shading(), c2.get_shading(), c3.get_shading()]\n",
    "    cols = [c1.get_color(), c2.get_color(), c3.get_color()]\n",
    "    \n",
    "    return 2 not in set([len(set(nums)), len(set(syms)), len(set(shas)), len(set(cols))])   "
   ]
  },
  {
   "cell_type": "code",
   "execution_count": 378,
   "metadata": {
    "collapsed": true
   },
   "outputs": [],
   "source": [
    "c1 = Card(3, 'green', 'open', 'b')\n",
    "c2 = Card(2, 'diamond', 'open', 'b')\n",
    "c3 = Card(1, 'squiggle', 'open', 'b')"
   ]
  },
  {
   "cell_type": "code",
   "execution_count": 379,
   "metadata": {
    "collapsed": false
   },
   "outputs": [
    {
     "data": {
      "text/plain": [
       "True"
      ]
     },
     "execution_count": 379,
     "metadata": {},
     "output_type": "execute_result"
    }
   ],
   "source": [
    "is_set(c1, c2, c3)"
   ]
  },
  {
   "cell_type": "code",
   "execution_count": 380,
   "metadata": {
    "collapsed": false
   },
   "outputs": [
    {
     "data": {
      "text/plain": [
       "{1, 2, 3}"
      ]
     },
     "execution_count": 380,
     "metadata": {},
     "output_type": "execute_result"
    }
   ],
   "source": [
    "set([c1.get_number(), c2.get_number(), c3.get_number()])"
   ]
  },
  {
   "cell_type": "code",
   "execution_count": 381,
   "metadata": {
    "collapsed": false
   },
   "outputs": [
    {
     "name": "stdout",
     "output_type": "stream",
     "text": [
      "1, solid, red, diamond\n",
      "1, solid, red, squiggle\n",
      "1, solid, red, oval\n",
      "1, solid, green, diamond\n",
      "1, solid, green, squiggle\n",
      "1, solid, green, oval\n",
      "1, solid, purple, diamond\n",
      "1, solid, purple, squiggle\n",
      "1, solid, purple, oval\n",
      "1, striped, red, diamond\n",
      "1, striped, red, squiggle\n",
      "1, striped, red, oval\n",
      "1, striped, green, diamond\n",
      "1, striped, green, squiggle\n",
      "1, striped, green, oval\n",
      "1, striped, purple, diamond\n",
      "1, striped, purple, squiggle\n",
      "1, striped, purple, oval\n",
      "1, open, red, diamond\n",
      "1, open, red, squiggle\n",
      "1, open, red, oval\n",
      "1, open, green, diamond\n",
      "1, open, green, squiggle\n",
      "1, open, green, oval\n",
      "1, open, purple, diamond\n",
      "1, open, purple, squiggle\n",
      "1, open, purple, oval\n",
      "2, solid, red, diamond\n",
      "2, solid, red, squiggle\n",
      "2, solid, red, oval\n",
      "2, solid, green, diamond\n",
      "2, solid, green, squiggle\n",
      "2, solid, green, oval\n",
      "2, solid, purple, diamond\n",
      "2, solid, purple, squiggle\n",
      "2, solid, purple, oval\n",
      "2, striped, red, diamond\n",
      "2, striped, red, squiggle\n",
      "2, striped, red, oval\n",
      "2, striped, green, diamond\n",
      "2, striped, green, squiggle\n",
      "2, striped, green, oval\n",
      "2, striped, purple, diamond\n",
      "2, striped, purple, squiggle\n",
      "2, striped, purple, oval\n",
      "2, open, red, diamond\n",
      "2, open, red, squiggle\n",
      "2, open, red, oval\n",
      "2, open, green, diamond\n",
      "2, open, green, squiggle\n",
      "2, open, green, oval\n",
      "2, open, purple, diamond\n",
      "2, open, purple, squiggle\n",
      "2, open, purple, oval\n",
      "3, solid, red, diamond\n",
      "3, solid, red, squiggle\n",
      "3, solid, red, oval\n",
      "3, solid, green, diamond\n",
      "3, solid, green, squiggle\n",
      "3, solid, green, oval\n",
      "3, solid, purple, diamond\n",
      "3, solid, purple, squiggle\n",
      "3, solid, purple, oval\n",
      "3, striped, red, diamond\n",
      "3, striped, red, squiggle\n",
      "3, striped, red, oval\n",
      "3, striped, green, diamond\n",
      "3, striped, green, squiggle\n",
      "3, striped, green, oval\n",
      "3, striped, purple, diamond\n",
      "3, striped, purple, squiggle\n",
      "3, striped, purple, oval\n",
      "3, open, red, diamond\n",
      "3, open, red, squiggle\n",
      "3, open, red, oval\n",
      "3, open, green, diamond\n",
      "3, open, green, squiggle\n",
      "3, open, green, oval\n",
      "3, open, purple, diamond\n",
      "3, open, purple, squiggle\n",
      "3, open, purple, oval\n"
     ]
    }
   ],
   "source": [
    "for card in deck:\n",
    "    print card"
   ]
  },
  {
   "cell_type": "code",
   "execution_count": 382,
   "metadata": {
    "collapsed": false
   },
   "outputs": [
    {
     "name": "stdout",
     "output_type": "stream",
     "text": [
      "(1, 'solid', 'red', 'diamond')\n"
     ]
    }
   ],
   "source": [
    "print cards[0]"
   ]
  },
  {
   "cell_type": "code",
   "execution_count": 383,
   "metadata": {
    "collapsed": false
   },
   "outputs": [],
   "source": [
    "class Deck:\n",
    "    def __init__(self):\n",
    "        numbers = range(1,4)\n",
    "        symbols = ['diamond', 'squiggle', 'oval']\n",
    "        shadings = ['solid', 'striped', 'open']\n",
    "        colors = ['red', 'green', 'purple']\n",
    "        cards = list(iter.product(numbers, shadings, colors, symbols))\n",
    "        self.deck = []\n",
    "        for card in cards:\n",
    "            self.deck.append(Card(card[0], card[1], card[2], card[3]))\n",
    "    def __str__(self):\n",
    "        return '\\n'.join([str(card) for card in self.deck])\n",
    "    \n",
    "    def get_size(self):\n",
    "        return len(self.deck)\n",
    "    \n",
    "    def shuffle(self):\n",
    "        return random.shuffle(self.deck)\n",
    "    \n",
    "    def draw_card(self):\n",
    "        #first_card = deck[0]\n",
    "        #return deck[0]\n",
    "        return self.deck.pop(0)"
   ]
  },
  {
   "cell_type": "code",
   "execution_count": 384,
   "metadata": {
    "collapsed": false
   },
   "outputs": [],
   "source": [
    "d = Deck()"
   ]
  },
  {
   "cell_type": "code",
   "execution_count": 385,
   "metadata": {
    "collapsed": false
   },
   "outputs": [
    {
     "data": {
      "text/plain": [
       "81"
      ]
     },
     "execution_count": 385,
     "metadata": {},
     "output_type": "execute_result"
    }
   ],
   "source": [
    "d.get_size()"
   ]
  },
  {
   "cell_type": "code",
   "execution_count": 386,
   "metadata": {
    "collapsed": false
   },
   "outputs": [
    {
     "name": "stdout",
     "output_type": "stream",
     "text": [
      "1, solid, red, diamond\n"
     ]
    }
   ],
   "source": [
    "print d.draw_card()"
   ]
  },
  {
   "cell_type": "code",
   "execution_count": 387,
   "metadata": {
    "collapsed": false
   },
   "outputs": [
    {
     "name": "stdout",
     "output_type": "stream",
     "text": [
      "1, solid, red, squiggle\n"
     ]
    }
   ],
   "source": [
    "print d.draw_card()"
   ]
  },
  {
   "cell_type": "code",
   "execution_count": 388,
   "metadata": {
    "collapsed": true
   },
   "outputs": [],
   "source": [
    "d.shuffle()"
   ]
  },
  {
   "cell_type": "code",
   "execution_count": 389,
   "metadata": {
    "collapsed": false
   },
   "outputs": [
    {
     "name": "stdout",
     "output_type": "stream",
     "text": [
      "3, open, purple, diamond\n"
     ]
    }
   ],
   "source": [
    "print d.draw_card()"
   ]
  },
  {
   "cell_type": "code",
   "execution_count": 390,
   "metadata": {
    "collapsed": false
   },
   "outputs": [
    {
     "data": {
      "text/plain": [
       "78"
      ]
     },
     "execution_count": 390,
     "metadata": {},
     "output_type": "execute_result"
    }
   ],
   "source": [
    "d.get_size()"
   ]
  },
  {
   "cell_type": "code",
   "execution_count": 391,
   "metadata": {
    "collapsed": false
   },
   "outputs": [
    {
     "name": "stdout",
     "output_type": "stream",
     "text": [
      "3, solid, purple, squiggle\n",
      "1, open, purple, squiggle\n",
      "2, solid, red, squiggle\n",
      "2, striped, red, squiggle\n",
      "3, solid, red, diamond\n",
      "3, open, green, oval\n",
      "3, open, red, diamond\n",
      "3, open, red, oval\n",
      "3, open, purple, squiggle\n",
      "1, solid, red, oval\n",
      "1, open, green, oval\n",
      "2, open, green, diamond\n",
      "2, open, purple, squiggle\n",
      "2, open, purple, oval\n",
      "3, striped, purple, diamond\n",
      "1, solid, purple, diamond\n",
      "3, striped, green, squiggle\n",
      "1, open, red, squiggle\n",
      "2, solid, red, oval\n",
      "1, solid, green, oval\n",
      "2, striped, green, squiggle\n",
      "3, striped, green, oval\n",
      "2, open, green, squiggle\n",
      "1, striped, green, oval\n",
      "3, striped, red, squiggle\n",
      "2, striped, purple, squiggle\n",
      "1, striped, red, squiggle\n",
      "1, solid, purple, squiggle\n",
      "2, open, purple, diamond\n",
      "2, solid, purple, oval\n",
      "2, striped, red, oval\n",
      "2, solid, red, diamond\n",
      "2, striped, green, diamond\n",
      "1, open, purple, oval\n",
      "3, open, green, squiggle\n",
      "3, striped, purple, oval\n",
      "3, open, purple, oval\n",
      "2, open, red, oval\n",
      "3, solid, red, oval\n",
      "1, striped, green, squiggle\n",
      "1, striped, red, oval\n",
      "1, solid, green, diamond\n",
      "3, open, green, diamond\n",
      "1, solid, green, squiggle\n",
      "2, striped, green, oval\n",
      "3, striped, purple, squiggle\n",
      "1, open, green, diamond\n",
      "3, solid, purple, oval\n",
      "2, striped, purple, diamond\n",
      "1, solid, purple, oval\n",
      "3, open, red, squiggle\n",
      "2, solid, purple, squiggle\n",
      "1, striped, purple, oval\n",
      "2, striped, purple, oval\n",
      "2, open, green, oval\n",
      "3, striped, green, diamond\n",
      "1, open, red, diamond\n",
      "3, striped, red, oval\n",
      "1, striped, green, diamond\n",
      "2, solid, green, diamond\n",
      "1, striped, purple, squiggle\n",
      "2, solid, purple, diamond\n",
      "2, striped, red, diamond\n",
      "3, solid, red, squiggle\n",
      "2, solid, green, squiggle\n",
      "1, open, purple, diamond\n",
      "2, open, red, diamond\n",
      "3, solid, green, oval\n",
      "1, open, green, squiggle\n",
      "3, solid, green, squiggle\n",
      "3, solid, purple, diamond\n",
      "2, open, red, squiggle\n",
      "3, striped, red, diamond\n",
      "1, striped, red, diamond\n",
      "3, solid, green, diamond\n",
      "1, open, red, oval\n",
      "2, solid, green, oval\n",
      "1, striped, purple, diamond\n"
     ]
    }
   ],
   "source": [
    "print d"
   ]
  },
  {
   "cell_type": "code",
   "execution_count": 392,
   "metadata": {
    "collapsed": true
   },
   "outputs": [],
   "source": [
    "d = Deck()"
   ]
  },
  {
   "cell_type": "code",
   "execution_count": 393,
   "metadata": {
    "collapsed": true
   },
   "outputs": [],
   "source": [
    "d.shuffle()"
   ]
  },
  {
   "cell_type": "code",
   "execution_count": 394,
   "metadata": {
    "collapsed": true
   },
   "outputs": [],
   "source": [
    "board = []\n",
    "for i in range(12):\n",
    "    board.append(d.draw_card())"
   ]
  },
  {
   "cell_type": "code",
   "execution_count": 395,
   "metadata": {
    "collapsed": false
   },
   "outputs": [
    {
     "name": "stdout",
     "output_type": "stream",
     "text": [
      "1, open, red, squiggle\n",
      "1, open, green, oval\n",
      "1, open, purple, squiggle\n",
      "1, solid, purple, squiggle\n",
      "3, open, green, diamond\n",
      "3, striped, purple, diamond\n",
      "1, solid, purple, diamond\n",
      "3, striped, red, diamond\n",
      "2, striped, purple, diamond\n",
      "2, striped, red, squiggle\n",
      "3, striped, red, oval\n",
      "3, solid, purple, squiggle\n"
     ]
    }
   ],
   "source": [
    "print '\\n'.join([str(card) for card in board])"
   ]
  },
  {
   "cell_type": "code",
   "execution_count": 396,
   "metadata": {
    "collapsed": false
   },
   "outputs": [
    {
     "data": {
      "text/plain": [
       "69"
      ]
     },
     "execution_count": 396,
     "metadata": {},
     "output_type": "execute_result"
    }
   ],
   "source": [
    "d.get_size()"
   ]
  },
  {
   "cell_type": "code",
   "execution_count": 397,
   "metadata": {
    "collapsed": true
   },
   "outputs": [],
   "source": [
    "def create_board():\n",
    "    board = []\n",
    "    for i in range(12):\n",
    "        board.append(d.draw_card())"
   ]
  },
  {
   "cell_type": "code",
   "execution_count": 398,
   "metadata": {
    "collapsed": false
   },
   "outputs": [
    {
     "name": "stdout",
     "output_type": "stream",
     "text": [
      "[<__main__.Card instance at 0x106b0b128>, <__main__.Card instance at 0x106b0b248>, <__main__.Card instance at 0x106b0b2d8>, <__main__.Card instance at 0x106ae1d88>, <__main__.Card instance at 0x106b28128>, <__main__.Card instance at 0x106b0bf38>, <__main__.Card instance at 0x106ae1d40>, <__main__.Card instance at 0x106b0bd88>, <__main__.Card instance at 0x106b0b7a0>, <__main__.Card instance at 0x106b0b638>, <__main__.Card instance at 0x106b0be18>, <__main__.Card instance at 0x106b0bcf8>]\n"
     ]
    }
   ],
   "source": [
    "print board"
   ]
  },
  {
   "cell_type": "code",
   "execution_count": 448,
   "metadata": {
    "collapsed": true
   },
   "outputs": [],
   "source": [
    "class Board:\n",
    "    def __init__(self, deck):\n",
    "        self.deck = deck\n",
    "        self.board = []\n",
    "        for i in range(12):\n",
    "            self.board.append(self.deck.draw_card())\n",
    "            \n",
    "    def __str__(self):\n",
    "        return '\\n'.join([str(card) for card in self.board])\n",
    "    \n",
    "    def contains(self, c1):\n",
    "        return any(c1 == card for card in self.board)\n",
    "    \n",
    "    def remove_set(self, c1, c2, c3):\n",
    "        if (self.contains(c1) & self.contains(c2) & self.contains(c3)):\n",
    "            self.board.remove(c1)\n",
    "            self.board.remove(c2)\n",
    "            self.board.remove(c3)\n",
    "    \n",
    "    def refill_board(self):\n",
    "        for i in range(3):\n",
    "            self.board.append(self.deck.draw_card())"
   ]
  },
  {
   "cell_type": "code",
   "execution_count": 456,
   "metadata": {
    "collapsed": false
   },
   "outputs": [],
   "source": [
    "d = Deck()\n",
    "d.shuffle()"
   ]
  },
  {
   "cell_type": "code",
   "execution_count": 457,
   "metadata": {
    "collapsed": true
   },
   "outputs": [],
   "source": [
    "b = Board(d)"
   ]
  },
  {
   "cell_type": "code",
   "execution_count": 458,
   "metadata": {
    "collapsed": false
   },
   "outputs": [
    {
     "name": "stdout",
     "output_type": "stream",
     "text": [
      "3, open, purple, diamond\n",
      "3, open, green, oval\n",
      "1, solid, red, diamond\n",
      "3, open, red, squiggle\n",
      "3, solid, purple, oval\n",
      "3, solid, red, diamond\n",
      "1, open, purple, diamond\n",
      "3, striped, green, oval\n",
      "1, striped, red, squiggle\n",
      "3, solid, purple, squiggle\n",
      "2, open, purple, squiggle\n",
      "1, striped, purple, oval\n"
     ]
    }
   ],
   "source": [
    "print b"
   ]
  },
  {
   "cell_type": "code",
   "execution_count": 441,
   "metadata": {
    "collapsed": true
   },
   "outputs": [],
   "source": [
    "c1 = Card(2, 'solid', 'green', 'squiggle')"
   ]
  },
  {
   "cell_type": "code",
   "execution_count": 442,
   "metadata": {
    "collapsed": true
   },
   "outputs": [],
   "source": [
    "c2 = Card(1, 'oval', 'solid', 'red')"
   ]
  },
  {
   "cell_type": "code",
   "execution_count": 443,
   "metadata": {
    "collapsed": false
   },
   "outputs": [
    {
     "data": {
      "text/plain": [
       "False"
      ]
     },
     "execution_count": 443,
     "metadata": {},
     "output_type": "execute_result"
    }
   ],
   "source": [
    "c1 == c2"
   ]
  },
  {
   "cell_type": "code",
   "execution_count": 444,
   "metadata": {
    "collapsed": false
   },
   "outputs": [
    {
     "data": {
      "text/plain": [
       "False"
      ]
     },
     "execution_count": 444,
     "metadata": {},
     "output_type": "execute_result"
    }
   ],
   "source": [
    "b.contains(c1)"
   ]
  },
  {
   "cell_type": "code",
   "execution_count": 459,
   "metadata": {
    "collapsed": true
   },
   "outputs": [],
   "source": [
    "c1 = Card(1, 'solid', 'red', 'diamond')\n",
    "c2 = Card(3, 'open', 'green', 'oval')\n",
    "c3 = Card(3, 'open', 'purple', 'diamond')"
   ]
  },
  {
   "cell_type": "code",
   "execution_count": 460,
   "metadata": {
    "collapsed": false
   },
   "outputs": [],
   "source": [
    "b.remove_set(c1, c2, c3)"
   ]
  },
  {
   "cell_type": "code",
   "execution_count": 461,
   "metadata": {
    "collapsed": false
   },
   "outputs": [
    {
     "name": "stdout",
     "output_type": "stream",
     "text": [
      "3, open, red, squiggle\n",
      "3, solid, purple, oval\n",
      "3, solid, red, diamond\n",
      "1, open, purple, diamond\n",
      "3, striped, green, oval\n",
      "1, striped, red, squiggle\n",
      "3, solid, purple, squiggle\n",
      "2, open, purple, squiggle\n",
      "1, striped, purple, oval\n"
     ]
    }
   ],
   "source": [
    "print b"
   ]
  },
  {
   "cell_type": "code",
   "execution_count": null,
   "metadata": {
    "collapsed": true
   },
   "outputs": [],
   "source": []
  }
 ],
 "metadata": {
  "anaconda-cloud": {},
  "kernelspec": {
   "display_name": "Python [Root]",
   "language": "python",
   "name": "Python [Root]"
  },
  "language_info": {
   "codemirror_mode": {
    "name": "ipython",
    "version": 2
   },
   "file_extension": ".py",
   "mimetype": "text/x-python",
   "name": "python",
   "nbconvert_exporter": "python",
   "pygments_lexer": "ipython2",
   "version": "2.7.12"
  }
 },
 "nbformat": 4,
 "nbformat_minor": 0
}
